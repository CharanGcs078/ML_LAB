{
  "nbformat": 4,
  "nbformat_minor": 0,
  "metadata": {
    "colab": {
      "provenance": []
    },
    "kernelspec": {
      "name": "python3",
      "display_name": "Python 3"
    },
    "language_info": {
      "name": "python"
    }
  },
  "cells": [
    {
      "cell_type": "code",
      "execution_count": null,
      "metadata": {
        "id": "tr4Cj-SnuCBK"
      },
      "outputs": [],
      "source": [
        "import pandas as pd\n",
        "from matplotlib import pyplot as plt\n",
        "# %matplotlib inline\n",
        "#\"%matplotlib inline\" will make your plot outputs appear and be stored within the notebook.\n",
        "\n",
        "df = pd.read_csv(\"insurance_data.csv\")\n",
        "df.head()\n",
        "\n",
        "plt.scatter(df.age,df.bought_insurance,marker='+',color='red')\n",
        "\n",
        "from sklearn.model_selection import train_test_split\n",
        "X_train, X_test, y_train, y_test = train_test_split(df[['age']],df.bought_insurance,train_size=0.9,random_state=10)\n",
        "X_train.shape\n",
        "\n",
        "X_test\n",
        "\n",
        "from sklearn.linear_model import LogisticRegression\n",
        "model = LogisticRegression()\n",
        "\n",
        "model.fit(X_train, y_train)\n",
        "\n",
        "X_test\n",
        "\n",
        "y_test\n",
        "\n",
        "y_predicted = model.predict(X_test)\n",
        "y_predicted\n",
        "\n",
        "model.score(X_test,y_test)\n",
        "\n",
        "model.predict_proba(X_test)\n",
        "\n",
        "y_predicted = model.predict([[60]])\n",
        "y_predicted\n",
        "\n",
        "#model.coef_ indicates value of m in y=m*x + b equation\n",
        "model.coef_\n",
        "\n",
        "#model.intercept_ indicates value of b in y=m*x + b equation\n",
        "model.intercept_\n",
        "\n",
        "#Lets defined sigmoid function now and do the math with hand\n",
        "import math\n",
        "def sigmoid(x):\n",
        "  return 1 / (1 + math.exp(-x))\n",
        "\n",
        "def prediction_function(age):\n",
        "   z = 0.127 * age - 4.973 # 0.12740563 ~ 0.0127 and -4.97335111 ~ -4.97\n",
        "   y = sigmoid(z)\n",
        "   return y\n",
        "\n",
        "age = 35\n",
        "prediction_function(age)\n",
        "\n",
        "\"\"\"0.37 is less than 0.5 which means person with 35 will not buy the insurance\"\"\"\n"
      ]
    },
    {
      "cell_type": "code",
      "source": [
        "# Import necessary libraries\n",
        "import pandas as pd\n",
        "from sklearn.datasets import load_iris\n",
        "from sklearn.model_selection import train_test_split\n",
        "from sklearn.linear_model import LogisticRegression\n",
        "from sklearn.metrics import accuracy_score\n",
        "from sklearn import metrics\n",
        "import matplotlib.pyplot as plt\n",
        "\n",
        "# Load the Iris dataset\n",
        "iris =  pd.read_csv(\"iris.csv\")\n",
        "iris.head()\n",
        "\n",
        "X=iris.drop('species',axis='columns')# Features (sepal length, sepal width, petal length, petal width)\n",
        "y = iris.species # Target labels (0: Setosa, 1: Versicolor, 2: Virginica)\n",
        "\n",
        "# Split the dataset into 80% training and 20% testing\n",
        "X_train, X_test, y_train, y_test = train_test_split(X, y, test_size=0.2, random_state=42)\n",
        "\n",
        "# Initialize the Multinomial Logistic Regression model\n",
        "# Use 'multinomial' for multi-class classification and 'lbfgs' solver\n",
        "model = LogisticRegression(multi_class='multinomial')\n",
        "\n",
        "# Train the model on the training data\n",
        "model.fit(X_train, y_train)\n",
        "\n",
        "# Make predictions on the test data\n",
        "y_pred = model.predict(X_test)\n",
        "\n",
        "# Calculate the accuracy of the model on the test data\n",
        "accuracy = accuracy_score(y_test, y_pred)\n",
        "\n",
        "# Display the accuracy\n",
        "print(f\"Accuracy of the Multinomial Logistic Regression model on the test set: {accuracy:.2f}\")\n",
        "\n",
        "confusion_matrix = metrics.confusion_matrix(y_test, y_pred)\n",
        "\n",
        "cm_display = metrics.ConfusionMatrixDisplay(confusion_matrix = confusion_matrix, display_labels = [\"Setosa\", \"Versicolor\", \"Virginica\"])\n",
        "\n",
        "cm_display.plot()\n",
        "plt.show()\n"
      ],
      "metadata": {
        "id": "SAKdHMl9uRXn"
      },
      "execution_count": null,
      "outputs": []
    },
    {
      "cell_type": "code",
      "source": [
        "# logistic_sklearn.py\n",
        "\n",
        "import pandas as pd\n",
        "from sklearn.datasets import load_breast_cancer\n",
        "from sklearn.linear_model import LogisticRegression\n",
        "from sklearn.model_selection import train_test_split\n",
        "from sklearn.metrics import classification_report, confusion_matrix, accuracy_score\n",
        "\n",
        "# Load dataset\n",
        "data = load_breast_cancer()\n",
        "X = pd.DataFrame(data.data, columns=data.feature_names)\n",
        "y = pd.Series(data.target)\n",
        "\n",
        "# Split data\n",
        "X_train, X_test, y_train, y_test = train_test_split(X, y, test_size=0.2, random_state=42)\n",
        "\n",
        "# Logistic Regression model\n",
        "model = LogisticRegression(max_iter=1000)\n",
        "model.fit(X_train, y_train)\n",
        "\n",
        "# Predictions\n",
        "y_pred = model.predict(X_test)\n",
        "\n",
        "# Evaluation\n",
        "print(\"Confusion Matrix:\\n\", confusion_matrix(y_test, y_pred))\n",
        "print(\"\\nClassification Report:\\n\", classification_report(y_test, y_pred))\n",
        "print(\"\\nAccuracy Score:\", accuracy_score(y_test, y_pred))\n"
      ],
      "metadata": {
        "colab": {
          "base_uri": "https://localhost:8080/"
        },
        "id": "e60B2qhW6npb",
        "outputId": "c47455e7-bee7-4813-8c8c-cec6f470adb9"
      },
      "execution_count": 1,
      "outputs": [
        {
          "output_type": "stream",
          "name": "stdout",
          "text": [
            "Confusion Matrix:\n",
            " [[39  4]\n",
            " [ 1 70]]\n",
            "\n",
            "Classification Report:\n",
            "               precision    recall  f1-score   support\n",
            "\n",
            "           0       0.97      0.91      0.94        43\n",
            "           1       0.95      0.99      0.97        71\n",
            "\n",
            "    accuracy                           0.96       114\n",
            "   macro avg       0.96      0.95      0.95       114\n",
            "weighted avg       0.96      0.96      0.96       114\n",
            "\n",
            "\n",
            "Accuracy Score: 0.956140350877193\n"
          ]
        },
        {
          "output_type": "stream",
          "name": "stderr",
          "text": [
            "/usr/local/lib/python3.11/dist-packages/sklearn/linear_model/_logistic.py:465: ConvergenceWarning: lbfgs failed to converge (status=1):\n",
            "STOP: TOTAL NO. OF ITERATIONS REACHED LIMIT.\n",
            "\n",
            "Increase the number of iterations (max_iter) or scale the data as shown in:\n",
            "    https://scikit-learn.org/stable/modules/preprocessing.html\n",
            "Please also refer to the documentation for alternative solver options:\n",
            "    https://scikit-learn.org/stable/modules/linear_model.html#logistic-regression\n",
            "  n_iter_i = _check_optimize_result(\n"
          ]
        }
      ]
    },
    {
      "cell_type": "code",
      "source": [
        "# logistic_manual.py\n",
        "\n",
        "import numpy as np\n",
        "import pandas as pd\n",
        "from sklearn.datasets import load_breast_cancer\n",
        "from sklearn.model_selection import train_test_split\n",
        "\n",
        "# Load data\n",
        "data = load_breast_cancer()\n",
        "X = pd.DataFrame(data.data, columns=data.feature_names)\n",
        "y = pd.Series(data.target)\n",
        "\n",
        "# Normalize features\n",
        "X = (X - X.mean()) / X.std()\n",
        "\n",
        "# Add bias column\n",
        "X['bias'] = 1\n",
        "X = X[['bias'] + [col for col in X.columns if col != 'bias']]  # Reorder\n",
        "\n",
        "# Train/test split\n",
        "X_train, X_test, y_train, y_test = train_test_split(X.values, y.values, test_size=0.2, random_state=42)\n",
        "\n",
        "# Sigmoid function\n",
        "def sigmoid(z):\n",
        "    return 1 / (1 + np.exp(-z))\n",
        "\n",
        "# Logistic regression model\n",
        "def train(X, y, lr=0.01, epochs=1000):\n",
        "    weights = np.zeros(X.shape[1])\n",
        "\n",
        "    for i in range(epochs):\n",
        "        z = np.dot(X, weights)\n",
        "        h = sigmoid(z)\n",
        "        gradient = np.dot(X.T, (h - y)) / y.size\n",
        "        weights -= lr * gradient\n",
        "\n",
        "    return weights\n",
        "\n",
        "# Prediction\n",
        "def predict(X, weights, threshold=0.5):\n",
        "    probs = sigmoid(np.dot(X, weights))\n",
        "    return (probs >= threshold).astype(int)\n",
        "\n",
        "# Train\n",
        "weights = train(X_train, y_train)\n",
        "\n",
        "# Predict\n",
        "y_pred = predict(X_test, weights)\n",
        "\n",
        "# Evaluation\n",
        "accuracy = np.mean(y_pred == y_test)\n",
        "print(\"Accuracy:\", accuracy)\n"
      ],
      "metadata": {
        "colab": {
          "base_uri": "https://localhost:8080/"
        },
        "id": "4cFlcrpV6oQb",
        "outputId": "76861a56-e871-4ab2-e536-d0554f4e2dd4"
      },
      "execution_count": 2,
      "outputs": [
        {
          "output_type": "stream",
          "name": "stdout",
          "text": [
            "Accuracy: 0.9912280701754386\n"
          ]
        }
      ]
    },
    {
      "cell_type": "code",
      "source": [
        "# Load dataset from CSV\n",
        "df = pd.read_csv('data.csv')\n",
        "\n",
        "# X = all columns except the target\n",
        "X = df.drop(columns=['output column'])\n",
        "\n",
        "# y = only the target column\n",
        "y = df['output column']"
      ],
      "metadata": {
        "id": "_X5AkIjm6_Ti"
      },
      "execution_count": null,
      "outputs": []
    }
  ]
}